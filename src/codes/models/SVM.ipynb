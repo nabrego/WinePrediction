{
 "cells": [
  {
   "cell_type": "code",
   "execution_count": 5,
   "id": "5a1ba278-de94-4df9-b746-3e0f56e9ac29",
   "metadata": {},
   "outputs": [],
   "source": [
    "import pandas as pd\n",
    "from sklearn import svm\n",
    "from sklearn.model_selection import train_test_split\n",
    "from sklearn.metrics import accuracy_score, precision_score, recall_score, f1_score\n",
    "import matplotlib.pyplot as plt\n",
    "from sklearn.preprocessing import StandardScaler\n",
    "from sklearn.model_selection import GridSearchCV\n",
    "import joblib\n",
    "\n",
    "import sys\n",
    "import os\n",
    "sys.path.append(os.path.abspath('../../../src'))"
   ]
  },
  {
   "cell_type": "code",
   "execution_count": 6,
   "id": "cdf68325",
   "metadata": {},
   "outputs": [],
   "source": [
    "from scripts.data_processing import load_and_preprocess_data\n",
    "\n",
    "data_path = '../../../data/raw/winequalityN.csv'\n",
    "X_train, X_test, y_train, y_test = load_and_preprocess_data(data_path, features_to_drop=['density'])"
   ]
  },
  {
   "cell_type": "code",
   "execution_count": 7,
   "id": "10a745fe",
   "metadata": {},
   "outputs": [],
   "source": [
    "# Goal: define a function for getting mettrics from an SVM model so we can apply it to datasets with certain features removed based on \n",
    "# collinearity we identified in EDA\n",
    "\n",
    "# We will also add the option for grid search for c and gamma hyperparameters\n",
    "# We have selected radial basis function kernel based on our literature review and our data's non-linear nature. \n",
    "\n",
    "from sklearn.pipeline import Pipeline\n",
    "\n",
    "def get_SVM_Metrics(X_train, X_test, y_train, y_test, param_grid=None, save_model=False):\n",
    "    \"\"\"\n",
    "    Train SVM model and get metrics using a pipeline that combines scaling and classification\n",
    "    \"\"\"\n",
    "    # Create pipeline with scaler and SVM\n",
    "    pipeline = Pipeline([\n",
    "        ('scaler', StandardScaler()),\n",
    "        ('svm', svm.SVC(kernel='rbf', probability=True))\n",
    "    ])\n",
    "    \n",
    "    # Modify param grid to work with pipeline\n",
    "    if param_grid:\n",
    "        pipeline_param_grid = {f'svm__{key}': value for key, value in param_grid.items()}\n",
    "        \n",
    "        grid_search = GridSearchCV(pipeline, pipeline_param_grid, cv=5, verbose=1, n_jobs=-1)\n",
    "        grid_search.fit(X_train, y_train)\n",
    "        print(f\"Best parameters found: {grid_search.best_params_}\")\n",
    "        \n",
    "        if save_model:\n",
    "            joblib.dump(grid_search.best_estimator_, '../../../models/svm.joblib')\n",
    "            print(\"Model saved successfully!\")\n",
    "        \n",
    "        pipeline = grid_search.best_estimator_\n",
    "    else:\n",
    "        pipeline.fit(X_train, y_train)\n",
    "    \n",
    "    # Get predictions\n",
    "    y_pred = pipeline.predict(X_test)\n",
    "    \n",
    "    # Calculate metrics\n",
    "    accuracy = accuracy_score(y_test, y_pred)\n",
    "    precision = precision_score(y_test, y_pred, average='weighted', zero_division=1)\n",
    "    recall = recall_score(y_test, y_pred, average='weighted', zero_division=1)\n",
    "    f1 = f1_score(y_test, y_pred, average='weighted', zero_division=1)\n",
    "    \n",
    "    # Print results\n",
    "    print(f\"Accuracy: {accuracy:.4f}\")\n",
    "    print(f\"Precision: {precision:.4f}\")\n",
    "    print(f\"Recall: {recall:.4f}\")\n",
    "    print(f\"F1 Score: {f1:.4f}\")\n",
    "    \n",
    "    return pipeline, accuracy, precision, recall, f1\n"
   ]
  },
  {
   "cell_type": "code",
   "execution_count": 8,
   "id": "64be7a58",
   "metadata": {},
   "outputs": [
    {
     "name": "stdout",
     "output_type": "stream",
     "text": [
      "Fitting 5 folds for each of 20 candidates, totalling 100 fits\n",
      "Best parameters found: {'svm__C': 7, 'svm__gamma': 1}\n",
      "Model saved successfully!\n",
      "Accuracy: 0.9459\n",
      "Precision: 0.9335\n",
      "Recall: 0.9459\n",
      "F1 Score: 0.9349\n",
      "\n",
      "Final model metrics:\n",
      "Accuracy: 0.9459\n",
      "Precision: 0.9335\n",
      "Recall: 0.9459\n",
      "F1 Score: 0.9349\n"
     ]
    }
   ],
   "source": [
    "# Define parameter grid\n",
    "param_grid = {\n",
    "    'C': [7, 8, 9, 10, 11],\n",
    "    'gamma': ['scale', 'auto', 0.1, 1]\n",
    "}\n",
    "\n",
    "# Train model and get metrics\n",
    "best_pipeline, accuracy, precision, recall, f1 = get_SVM_Metrics(\n",
    "    X_train, X_test, y_train, y_test,\n",
    "    param_grid=param_grid,\n",
    "    save_model=True\n",
    ")\n",
    "\n",
    "print(\"\\nFinal model metrics:\")\n",
    "print(f\"Accuracy: {accuracy:.4f}\")\n",
    "print(f\"Precision: {precision:.4f}\")\n",
    "print(f\"Recall: {recall:.4f}\")\n",
    "print(f\"F1 Score: {f1:.4f}\")"
   ]
  }
 ],
 "metadata": {
  "kernelspec": {
   "display_name": "Python 3 (ipykernel)",
   "language": "python",
   "name": "python3"
  },
  "language_info": {
   "codemirror_mode": {
    "name": "ipython",
    "version": 3
   },
   "file_extension": ".py",
   "mimetype": "text/x-python",
   "name": "python",
   "nbconvert_exporter": "python",
   "pygments_lexer": "ipython3",
   "version": "3.10.13"
  }
 },
 "nbformat": 4,
 "nbformat_minor": 5
}
