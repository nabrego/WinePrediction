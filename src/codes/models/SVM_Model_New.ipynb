{
 "cells": [
  {
   "cell_type": "code",
   "execution_count": 26,
   "id": "5a1ba278-de94-4df9-b746-3e0f56e9ac29",
   "metadata": {},
   "outputs": [],
   "source": [
    "import pandas as pd\n",
    "from sklearn import svm\n",
    "from sklearn.model_selection import train_test_split\n",
    "from sklearn.metrics import accuracy_score, precision_score, recall_score, f1_score\n",
    "import matplotlib.pyplot as plt\n",
    "from sklearn.preprocessing import StandardScaler\n",
    "from sklearn.model_selection import GridSearchCV\n",
    "import joblib\n",
    "\n",
    "import sys\n",
    "import os\n",
    "sys.path.append(os.path.abspath('../../../src'))\n"
   ]
  },
  {
   "cell_type": "code",
   "execution_count": 27,
   "id": "c2646fbd-dbb5-45e6-bebc-396c7dbd7f70",
   "metadata": {},
   "outputs": [],
   "source": [
    "# We call the csv data\n",
    "df = pd.read_csv('../../../data/raw/winequalityN.csv')\n",
    "# We fill the NaN numerical values with 0\n",
    "df.fillna(df.select_dtypes(include='number').mean(), inplace=True)\n",
    "\n",
    "# White wine\n",
    "dfW = df[df['type'] == 'white']\n",
    "dfW = dfW.drop('type', axis=1)"
   ]
  },
  {
   "cell_type": "markdown",
   "id": "2c9eb91a-2062-4a39-b60e-f7724942d235",
   "metadata": {},
   "source": [
    "### Remove the following code chunk if not condensing output classes into three classes for quality"
   ]
  },
  {
   "cell_type": "code",
   "execution_count": 28,
   "id": "ed6b4ce5-8668-4c2e-8816-ae1456e96d3a",
   "metadata": {},
   "outputs": [],
   "source": [
    "# Convert the target variable 'quality' to categorical classes since the prediction score is low when using all 6 outputs.\n",
    "# The function will map quality scores 'low', 'medium', 'high' if they fall within the range from 0-4, 5-7 and 8+ respectively\n",
    "def categorize_quality(row):\n",
    "    if row <= 4:\n",
    "        return 'low'\n",
    "    elif 5 <= row <= 7:\n",
    "        return 'medium'\n",
    "    else:\n",
    "        return 'high'\n",
    "\n",
    "# Applying the function to the quality column so we sort into three categories rather than 6 (remember from EDA that we originally \n",
    "# only had 6 outputs due to scores that were not given)\n",
    "dfW['quality'] = dfW['quality'].apply(categorize_quality)"
   ]
  },
  {
   "cell_type": "code",
   "execution_count": 29,
   "id": "73203852-43a5-4564-a551-d0a9d76da6bd",
   "metadata": {},
   "outputs": [],
   "source": [
    "# Goal: define a function for getting mettrics from an SVM model so we can apply it to datasets with certain features removed based on \n",
    "# collinearity we identified in EDA\n",
    "\n",
    "# We will also add the option for grid search for c and gamma hyperparameters\n",
    "# We have selected radial basis function kernel based on our literature review and our data's non-linear nature. \n",
    "\n",
    "def get_SVM_Metrics(dataframe, param_grid=None, scale_features=True, save_model=False):\n",
    "    # Our target variable is wine quality \n",
    "    y = dataframe['quality']\n",
    "    X = dataframe.drop('quality', axis=1)\n",
    "    \n",
    "    # We split the data into training and testing. Between models, we have elected a test size of 0.2\n",
    "    X_train, X_test, y_train, y_test = train_test_split(X, y, test_size=0.2, random_state=42)\n",
    "    \n",
    "    # Scale the features is default to true\n",
    "    if scale_features:\n",
    "        scaler = StandardScaler()\n",
    "        X_train = scaler.fit_transform(X_train)\n",
    "        X_test = scaler.transform(X_test)\n",
    "    \n",
    "    # Create a SVM Classifier\n",
    "    classifier = svm.SVC(kernel='rbf') # Radial Basis Function Kernel\n",
    "\n",
    "    # Perform GridSearchCV if a parameter grid is provided\n",
    "    if param_grid:\n",
    "        # Between models, we have elected to utilize 5 folds for cross validation\n",
    "        grid_search = GridSearchCV(classifier, param_grid, cv=5, verbose=1, n_jobs=-1)\n",
    "        # Fit the grid search on the training data\n",
    "        grid_search.fit(X_train, y_train) \n",
    "        # .best_params_ returns a dictionary of the best parameters\n",
    "        print(f\"Best parameters found: {grid_search.best_params_}\")\n",
    "        # .best_estimator_ returns the object of the model using the best parameters \n",
    "        classifier = grid_search.best_estimator_\n",
    "        if save_model:\n",
    "            \n",
    "            # Save both the classifier and the scaler if scaling was used\n",
    "            if scale_features:\n",
    "                joblib.dump(scaler, '../../../models/svm_scaler.joblib')\n",
    "            joblib.dump(classifier, '../../../models/svm_model.joblib')\n",
    "            print(\"Model saved successfully!\")\n",
    "    else:\n",
    "        # Otherwide, the model should be trained on the training set specialized initially\n",
    "        classifier.fit(X_train, y_train)\n",
    "    \n",
    "    # Predict the response for the test dataset\n",
    "    y_pred = classifier.predict(X_test)\n",
    "    \n",
    "    # NEXT we want to calculate the metrics: accuracy, precision, recall, and F1 score\n",
    "    # Precision: The proportion of true positive predictions out of all the predicted positives (true positives + false positives)\n",
    "    # Recall: The proportion of true positive predictions out of all the actual positives (true positives + false negatives).\n",
    "    # f1 score: The harmonic mean of precision and recall, which balances the two and is particularly useful when you want to account \n",
    "    # for both false positives and false negatives.\n",
    "    \n",
    "    accuracy = accuracy_score(y_test, y_pred)\n",
    "    precision = precision_score(y_test, y_pred, average='weighted', zero_division=1)\n",
    "    recall = recall_score(y_test, y_pred, average='weighted', zero_division=1)\n",
    "    f1 = f1_score(y_test, y_pred, average='weighted', zero_division=1)\n",
    "\n",
    "    # Print the results\n",
    "    print(f\"Accuracy: {accuracy:.4f}\")\n",
    "    print(f\"Precision: {precision:.4f}\")\n",
    "    print(f\"Recall: {recall:.4f}\")\n",
    "    print(f\"F1 Score: {f1:.4f}\")\n",
    "    \n",
    "    # Return the metrics\n",
    "    return accuracy, precision, recall, f1"
   ]
  },
  {
   "cell_type": "code",
   "execution_count": 30,
   "id": "7a358309-6a93-444a-9c76-4efd351f4928",
   "metadata": {},
   "outputs": [],
   "source": [
    "metrics_scores = {}\n",
    "features_dropped = {}"
   ]
  },
  {
   "cell_type": "code",
   "execution_count": 31,
   "id": "83e28229-070c-42b7-a8fc-ede392cc4c54",
   "metadata": {},
   "outputs": [],
   "source": [
    "# Define the parameter grid for hyperparameter tuning\n",
    "# Note that we previously experimented with 'C': [0.1, 1, 10, 100, 1000] and later 'C': [7, 8, 9, 10, 11]\n",
    "# Since both resulted in 11 as the best parameter for C, we are leaving this list here for the report\n",
    "\n",
    "# For gamma, note that:\n",
    "# 'scale' corresponds to 1/(n_features * X.var()) , \n",
    "# 'auto' correponds to 1/n_features (this is the default for grid search)\n",
    "# 0.1 is a relatively small value of gamma. Small values result in smoother decision boundaries. \n",
    "# 1 is a higher value for gamma but is not quite large. Large values result in more erratic decision boundaries and can lead to overfitting\n",
    "# in all instances tested below, gamma:1 has had the best performance\n",
    "\n",
    "param_grid = {\n",
    "    'C': [11, 12, 13, 14, 15], \n",
    "    'gamma': ['scale', 'auto', 0.1, 1]\n",
    "}"
   ]
  },
  {
   "cell_type": "code",
   "execution_count": 32,
   "id": "0e5b63d7-3613-470a-bb91-20e8747a7f09",
   "metadata": {},
   "outputs": [
    {
     "data": {
      "text/plain": [
       "Index(['fixed acidity', 'volatile acidity', 'citric acid', 'residual sugar',\n",
       "       'chlorides', 'free sulfur dioxide', 'total sulfur dioxide', 'density',\n",
       "       'pH', 'sulphates', 'alcohol', 'quality'],\n",
       "      dtype='object')"
      ]
     },
     "execution_count": 32,
     "metadata": {},
     "output_type": "execute_result"
    }
   ],
   "source": [
    "dfW.columns"
   ]
  },
  {
   "cell_type": "markdown",
   "id": "7ea9c908-fd28-4040-983b-8d28996b600e",
   "metadata": {},
   "source": [
    "### Using all Features"
   ]
  },
  {
   "cell_type": "code",
   "execution_count": 33,
   "id": "d156a4ee-1258-4a14-b910-10d9c6f2ea77",
   "metadata": {},
   "outputs": [
    {
     "name": "stdout",
     "output_type": "stream",
     "text": [
      "Fitting 5 folds for each of 20 candidates, totalling 100 fits\n",
      "Best parameters found: {'C': 11, 'gamma': 1}\n",
      "Accuracy: 0.9459\n",
      "Precision: 0.9338\n",
      "Recall: 0.9459\n",
      "F1 Score: 0.9341\n",
      "Model metrics: (0.9459183673469388, np.float64(0.9337716218562897), np.float64(0.9459183673469388), np.float64(0.9340807381107771))\n"
     ]
    }
   ],
   "source": [
    "# Get the evaluation metrics using all features\n",
    "metrics = get_SVM_Metrics(dfW, param_grid = param_grid, scale_features=True)\n",
    "\n",
    "# Print the evaluation metrics\n",
    "print(f\"Model metrics: {metrics}\")\n",
    "# Add the evaluation metrics to our dictionary for plotting\n",
    "metrics_scores[\"None\"] = metrics "
   ]
  },
  {
   "cell_type": "markdown",
   "id": "dfc79fca-50b4-4a65-b618-32837db4504c",
   "metadata": {},
   "source": [
    "### Without Residual Sugar"
   ]
  },
  {
   "cell_type": "code",
   "execution_count": 34,
   "id": "1fcfe992-0198-43a0-8790-9daf5ac8d215",
   "metadata": {},
   "outputs": [
    {
     "name": "stdout",
     "output_type": "stream",
     "text": [
      "Fitting 5 folds for each of 20 candidates, totalling 100 fits\n",
      "Best parameters found: {'C': 11, 'gamma': 1}\n",
      "Accuracy: 0.9459\n",
      "Precision: 0.9338\n",
      "Recall: 0.9459\n",
      "F1 Score: 0.9341\n",
      "Model metrics: (0.9459183673469388, np.float64(0.9337716218562897), np.float64(0.9459183673469388), np.float64(0.9340807381107771))\n"
     ]
    }
   ],
   "source": [
    "# Get the evaluation metrics without residual sugar in the df\n",
    "dfW_no_residual_sugar = dfW.drop(columns=['residual sugar'])\n",
    "\n",
    "metrics = get_SVM_Metrics(dfW_no_residual_sugar, param_grid = param_grid, scale_features=True)\n",
    "\n",
    "# Print the evaluation metrics\n",
    "print(f\"Model metrics: {metrics}\")\n",
    "# Add the evaluation metrics to our dictionary for plotting\n",
    "metrics_scores[\"Residual Sugar\"] = metrics "
   ]
  },
  {
   "cell_type": "code",
   "execution_count": 35,
   "id": "9994ab3d-e06e-45f9-a722-bb0273c65429",
   "metadata": {},
   "outputs": [
    {
     "data": {
      "text/plain": [
       "Index(['fixed acidity', 'volatile acidity', 'citric acid', 'chlorides',\n",
       "       'free sulfur dioxide', 'total sulfur dioxide', 'density', 'pH',\n",
       "       'sulphates', 'alcohol', 'quality'],\n",
       "      dtype='object')"
      ]
     },
     "execution_count": 35,
     "metadata": {},
     "output_type": "execute_result"
    }
   ],
   "source": [
    "# Checking that the desired feature was dropped has been dropped given that they have the exact same metrics. \n",
    "# It appears that the feature was dropped so our model likely doesn't consider it in its prediction. \n",
    "dfW_no_residual_sugar.columns"
   ]
  },
  {
   "cell_type": "markdown",
   "id": "7fb76deb-f0b3-4506-adef-42244b48bd62",
   "metadata": {},
   "source": [
    "### Without Density"
   ]
  },
  {
   "cell_type": "code",
   "execution_count": 36,
   "id": "ea5ac853-44a2-41e9-9f65-9e0db4a16ef8",
   "metadata": {},
   "outputs": [
    {
     "name": "stdout",
     "output_type": "stream",
     "text": [
      "Fitting 5 folds for each of 20 candidates, totalling 100 fits\n",
      "Best parameters found: {'C': 11, 'gamma': 1}\n",
      "Model saved successfully!\n",
      "Accuracy: 0.9449\n",
      "Precision: 0.9324\n",
      "Recall: 0.9449\n",
      "F1 Score: 0.9334\n",
      "Model metrics: (0.9448979591836735, np.float64(0.932363837455234), np.float64(0.9448979591836735), np.float64(0.9334097532935098))\n"
     ]
    }
   ],
   "source": [
    "# Get the evaluation metrics without density\n",
    "dfW_no_density = dfW.drop(columns=['density'])\n",
    "\n",
    "metrics = get_SVM_Metrics(dfW_no_density, param_grid = param_grid, scale_features=True, save_model=True)\n",
    "\n",
    "# Print the evaluation metrics\n",
    "print(f\"Model metrics: {metrics}\")\n",
    "# Add the evaluation metrics to our dictionary for plotting\n",
    "metrics_scores[\"Density\"] = metrics "
   ]
  },
  {
   "cell_type": "markdown",
   "id": "bfb82849-f5ec-4cae-ae4b-dc768d66911f",
   "metadata": {},
   "source": [
    "### Without Alchohol"
   ]
  },
  {
   "cell_type": "code",
   "execution_count": 37,
   "id": "150bc604-924f-4039-ad21-ef850a2bd71d",
   "metadata": {},
   "outputs": [
    {
     "name": "stdout",
     "output_type": "stream",
     "text": [
      "Fitting 5 folds for each of 20 candidates, totalling 100 fits\n",
      "Best parameters found: {'C': 11, 'gamma': 1}\n",
      "Accuracy: 0.9418\n",
      "Precision: 0.9276\n",
      "Recall: 0.9418\n",
      "F1 Score: 0.9302\n",
      "Model metrics: (0.9418367346938775, np.float64(0.9276009213209092), np.float64(0.9418367346938775), np.float64(0.9301585468297131))\n"
     ]
    }
   ],
   "source": [
    "# Get the evaluation metrics without alcohol \n",
    "dfW_no_alcohol =  dfW.drop(columns=['alcohol'])\n",
    "\n",
    "metrics = get_SVM_Metrics(dfW_no_alcohol, param_grid = param_grid, scale_features=True)\n",
    "\n",
    "# Print the evaluation metrics\n",
    "print(f\"Model metrics: {metrics}\")\n",
    "# Add the evaluation metrics to our dictionary for plotting\n",
    "metrics_scores[\"Alcohol\"] = metrics "
   ]
  },
  {
   "cell_type": "markdown",
   "id": "979e06d7-aa46-412b-9a7a-dd7da4b8cbb0",
   "metadata": {},
   "source": [
    "### Plot "
   ]
  },
  {
   "cell_type": "code",
   "execution_count": 38,
   "id": "249593b3-b303-4621-a4bd-62be1a6d0a01",
   "metadata": {},
   "outputs": [],
   "source": [
    "import matplotlib.pyplot as plt\n",
    "import numpy as np"
   ]
  },
  {
   "cell_type": "code",
   "execution_count": 39,
   "id": "79b1fdb7-19dc-44bf-991b-c047b5b40440",
   "metadata": {},
   "outputs": [
    {
     "name": "stdout",
     "output_type": "stream",
     "text": [
      "{'None': (0.9459183673469388, np.float64(0.9337716218562897), np.float64(0.9459183673469388), np.float64(0.9340807381107771)), 'Residual Sugar': (0.9459183673469388, np.float64(0.9337716218562897), np.float64(0.9459183673469388), np.float64(0.9340807381107771)), 'Density': (0.9448979591836735, np.float64(0.932363837455234), np.float64(0.9448979591836735), np.float64(0.9334097532935098)), 'Alcohol': (0.9418367346938775, np.float64(0.9276009213209092), np.float64(0.9418367346938775), np.float64(0.9301585468297131))}\n"
     ]
    }
   ],
   "source": [
    "# Checking the contents of our dictionary \n",
    "print(metrics_scores)"
   ]
  },
  {
   "cell_type": "code",
   "execution_count": 40,
   "id": "d8889cb8-019f-4f31-886e-c26573a31206",
   "metadata": {},
   "outputs": [
    {
     "data": {
      "image/png": "[encoded data removed]",
      "text/plain": [
       "<Figure size 1000x600 with 1 Axes>"
      ]
     },
     "metadata": {},
     "output_type": "display_data"
    }
   ],
   "source": [
    "# Extracting keys (features) and the corresponding metrics \n",
    "features = list(metrics_scores.keys())\n",
    "metrics = np.array(list(metrics_scores.values()))\n",
    "\n",
    "# Extracting individual metrics (accuracy, precision, recall, F1)\n",
    "accuracy_scores = metrics[:, 0]\n",
    "precision_scores = metrics[:, 1]\n",
    "recall_scores = metrics[:, 2]\n",
    "f1_scores = metrics[:, 3]\n",
    "\n",
    "# Set up the bar plot width and positions\n",
    "x = np.arange(len(features))  # positions for the bars\n",
    "width = 0.2  # the width of the bars\n",
    "\n",
    "# Create a figure and axis\n",
    "fig, ax = plt.subplots(figsize=(10, 6))\n",
    "\n",
    "# Plot bars for each metric (accuracy, precision, recall, F1)\n",
    "bars1 = ax.bar(x - width * 1.5, accuracy_scores, width, label='Accuracy', color='skyblue')\n",
    "bars2 = ax.bar(x - width * 0.5, precision_scores, width, label='Precision', color='turquoise')\n",
    "bars3 = ax.bar(x + width * 0.5, recall_scores, width, label='Recall', color='mediumturquoise')\n",
    "bars4 = ax.bar(x + width * 1.5, f1_scores, width, label='F1 Score', color='aquamarine')\n",
    "\n",
    "# Add labels, title, and custom x-axis ticks\n",
    "ax.set_xlabel('Features')\n",
    "ax.set_ylabel('Scores')\n",
    "ax.set_title('Table 2: Comparison of Metrics for Different Features Removed for 3 Classes')\n",
    "ax.set_xticks(x)\n",
    "ax.set_xticklabels(features, rotation=45, ha=\"right\")\n",
    "\n",
    "# Adjust the range of y so it is easier to visualize the differences between bars\n",
    "ax.set_ylim(0.8, 1)\n",
    "\n",
    "# Add values on top of the bars using the values from metrics_scores\n",
    "for i, feature in enumerate(features):\n",
    "    accuracy = metrics_scores[feature][0]\n",
    "    precision = metrics_scores[feature][1]\n",
    "    recall = metrics_scores[feature][2]\n",
    "    f1 = metrics_scores[feature][3]\n",
    "\n",
    "    # Adding text labels above each bar for each metric\n",
    "    ax.text(x[i] - width * 1.5, accuracy + 0.01, f'{accuracy:.3f}', ha='center', va='bottom', fontsize=10)\n",
    "    ax.text(x[i] - width * 0.5, precision + 0.01, f'{precision:.3f}', ha='center', va='bottom', fontsize=10)\n",
    "    ax.text(x[i] + width * 0.5, recall + 0.01, f'{recall:.3f}', ha='center', va='bottom', fontsize=10)\n",
    "    ax.text(x[i] + width * 1.5, f1 + 0.01, f'{f1:.3f}', ha='center', va='bottom', fontsize=10)\n",
    "\n",
    "# Add legend\n",
    "ax.legend()\n",
    "\n",
    "# Display the plot\n",
    "plt.tight_layout()\n",
    "plt.show()"
   ]
  },
  {
   "cell_type": "code",
   "execution_count": 41,
   "id": "6be66f0f-26ce-481e-9a03-f17cc586f28e",
   "metadata": {},
   "outputs": [
    {
     "data": {
      "text/plain": [
       "True"
      ]
     },
     "execution_count": 41,
     "metadata": {},
     "output_type": "execute_result"
    }
   ],
   "source": [
    "metrics_scores[\"None\"] == metrics_scores[\"Residual Sugar\"]"
   ]
  },
  {
   "cell_type": "markdown",
   "id": "7fc6a5ff-72c6-4fbc-993e-c8d0aeadb504",
   "metadata": {},
   "source": [
    "### When using all outputs, the accuracy was highest when we removed density. When we consolidated all classes, though, this reduced the effect of removing it on performance. Let's run this again calculating all metric scores and all ouput classes (6 total)"
   ]
  },
  {
   "cell_type": "code",
   "execution_count": 42,
   "id": "7c1aa9a8-d03f-49a3-93bf-4aeda4b01e59",
   "metadata": {},
   "outputs": [],
   "source": [
    "# We call the csv data\n",
    "df2 = pd.read_csv('../../../data/raw/winequalityN.csv')\n",
    "# We fill the NaN numerical values with 0\n",
    "df2.fillna(df2.select_dtypes(include='number').mean(), inplace=True)\n",
    "\n",
    "# White wine\n",
    "dfW2 = df2[df['type'] == 'white']\n",
    "dfW2 = dfW2.drop('type', axis=1)"
   ]
  },
  {
   "cell_type": "code",
   "execution_count": 43,
   "id": "db21e2e3-5ab8-40b1-9bee-35f28fd27f44",
   "metadata": {},
   "outputs": [],
   "source": [
    "metrics_scores2 = {}\n",
    "features_dropped2 = {}"
   ]
  },
  {
   "cell_type": "code",
   "execution_count": 44,
   "id": "e8cf270b-5435-44e5-ab0b-f4d23b0eaebd",
   "metadata": {},
   "outputs": [
    {
     "name": "stdout",
     "output_type": "stream",
     "text": [
      "Fitting 5 folds for each of 20 candidates, totalling 100 fits\n",
      "Best parameters found: {'C': 12, 'gamma': 1}\n",
      "Accuracy: 0.6633\n",
      "Precision: 0.6758\n",
      "Recall: 0.6633\n",
      "F1 Score: 0.6552\n",
      "Model metrics: (0.6632653061224489, np.float64(0.6757540890598495), np.float64(0.6632653061224489), np.float64(0.6552414323272256))\n"
     ]
    }
   ],
   "source": [
    "# Get the metrics using all features\n",
    "metrics2 = get_SVM_Metrics(dfW2, param_grid = param_grid, scale_features=True)\n",
    "\n",
    "# Print the metrics\n",
    "print(f\"Model metrics: {metrics2}\")\n",
    "metrics_scores2[\"None\"] = metrics2 "
   ]
  },
  {
   "cell_type": "code",
   "execution_count": 45,
   "id": "de43e323-d907-4c43-8d71-f4e78025425b",
   "metadata": {},
   "outputs": [
    {
     "name": "stdout",
     "output_type": "stream",
     "text": [
      "Fitting 5 folds for each of 20 candidates, totalling 100 fits\n"
     ]
    },
    {
     "name": "stdout",
     "output_type": "stream",
     "text": [
      "Best parameters found: {'C': 12, 'gamma': 1}\n",
      "Accuracy: 0.6673\n",
      "Precision: 0.6762\n",
      "Recall: 0.6673\n",
      "F1 Score: 0.6596\n",
      "Model metrics: (0.6673469387755102, np.float64(0.6761662300845805), np.float64(0.6673469387755102), np.float64(0.659567745105431))\n"
     ]
    }
   ],
   "source": [
    "# Get the metrics using without residual sugar \n",
    "dfW_no_residual_sugar2 = dfW2.drop(columns=['residual sugar'])\n",
    "\n",
    "metrics2 = get_SVM_Metrics(dfW_no_residual_sugar2, param_grid = param_grid, scale_features=True)\n",
    "\n",
    "# Print the metrics\n",
    "print(f\"Model metrics: {metrics2}\")\n",
    "metrics_scores2[\"Residual Sugar\"] = metrics2 "
   ]
  },
  {
   "cell_type": "code",
   "execution_count": 46,
   "id": "d048b011-e1f9-4260-a48b-7b59f32a6f5d",
   "metadata": {},
   "outputs": [
    {
     "name": "stdout",
     "output_type": "stream",
     "text": [
      "Fitting 5 folds for each of 20 candidates, totalling 100 fits\n",
      "Best parameters found: {'C': 14, 'gamma': 1}\n",
      "Accuracy: 0.6735\n",
      "Precision: 0.6847\n",
      "Recall: 0.6735\n",
      "F1 Score: 0.6654\n",
      "Model metrics: (0.673469387755102, np.float64(0.6846902906617192), np.float64(0.673469387755102), np.float64(0.6654267189594786))\n"
     ]
    }
   ],
   "source": [
    "# Get the metrics using without density \n",
    "dfW_no_density2 = dfW2.drop(columns=['density'])\n",
    "\n",
    "metrics2 = get_SVM_Metrics(dfW_no_density2, param_grid = param_grid, scale_features=True)\n",
    "\n",
    "# Print the metrics\n",
    "print(f\"Model metrics: {metrics2}\")\n",
    "metrics_scores2[\"Density\"] = metrics2 "
   ]
  },
  {
   "cell_type": "code",
   "execution_count": 47,
   "id": "6e861c6a-e743-41fe-bf68-aff77fe60613",
   "metadata": {},
   "outputs": [
    {
     "name": "stdout",
     "output_type": "stream",
     "text": [
      "Fitting 5 folds for each of 20 candidates, totalling 100 fits\n",
      "Best parameters found: {'C': 13, 'gamma': 1}\n",
      "Accuracy: 0.6531\n",
      "Precision: 0.6626\n",
      "Recall: 0.6531\n",
      "F1 Score: 0.6452\n",
      "Model metrics: (0.6530612244897959, np.float64(0.6625730292116846), np.float64(0.6530612244897959), np.float64(0.6451990820515883))\n"
     ]
    }
   ],
   "source": [
    "# Get the metrics using without alcohol \n",
    "dfW_no_alcohol2 =  dfW2.drop(columns=['alcohol'])\n",
    "\n",
    "metrics2 = get_SVM_Metrics(dfW_no_alcohol2, param_grid = param_grid, scale_features=True)\n",
    "\n",
    "# Print the metrics\n",
    "print(f\"Model metrics: {metrics2}\")\n",
    "metrics_scores2[\"Alcohol\"] = metrics2"
   ]
  },
  {
   "cell_type": "code",
   "execution_count": 48,
   "id": "49930246-01d2-4db2-b518-ca591e10958b",
   "metadata": {},
   "outputs": [
    {
     "name": "stdout",
     "output_type": "stream",
     "text": [
      "{'None': (0.6632653061224489, np.float64(0.6757540890598495), np.float64(0.6632653061224489), np.float64(0.6552414323272256)), 'Residual Sugar': (0.6673469387755102, np.float64(0.6761662300845805), np.float64(0.6673469387755102), np.float64(0.659567745105431)), 'Density': (0.673469387755102, np.float64(0.6846902906617192), np.float64(0.673469387755102), np.float64(0.6654267189594786)), 'Alcohol': (0.6530612244897959, np.float64(0.6625730292116846), np.float64(0.6530612244897959), np.float64(0.6451990820515883))}\n"
     ]
    }
   ],
   "source": [
    "print(metrics_scores2)"
   ]
  },
  {
   "cell_type": "code",
   "execution_count": 49,
   "id": "11b3c5ac-af81-4c8b-a302-a5f1c9e32b44",
   "metadata": {},
   "outputs": [
    {
     "data": {
      "image/png": "[encoded data removed]",
      "text/plain": [
       "<Figure size 1000x600 with 1 Axes>"
      ]
     },
     "metadata": {},
     "output_type": "display_data"
    }
   ],
   "source": [
    "# Extracting keys (features) and the corresponding metric values\n",
    "features2 = list(metrics_scores2.keys())\n",
    "metrics2 = np.array(list(metrics_scores2.values()))\n",
    "\n",
    "# Extracting individual metrics (accuracy, precision, recall, F1)\n",
    "accuracy_scores2 = metrics2[:, 0]\n",
    "precision_scores2 = metrics2[:, 1]\n",
    "recall_scores2 = metrics2[:, 2]\n",
    "f1_scores2 = metrics2[:, 3]\n",
    "\n",
    "# Set up the bar plot width and positions\n",
    "x = np.arange(len(features))  # positions for the bars\n",
    "width = 0.2  # the width of the bars\n",
    "\n",
    "# Create a figure and axis\n",
    "fig, ax = plt.subplots(figsize=(10, 6))\n",
    "\n",
    "# Plot bars for each metric (accuracy, precision, recall, F1)\n",
    "bars1_2 = ax.bar(x - width * 1.5, accuracy_scores2, width, label='Accuracy', color='skyblue')\n",
    "bars2_2 = ax.bar(x - width * 0.5, precision_scores2, width, label='Precision', color='turquoise')\n",
    "bars3_2 = ax.bar(x + width * 0.5, recall_scores2, width, label='Recall', color='mediumturquoise')\n",
    "bars4_2 = ax.bar(x + width * 1.5, f1_scores2, width, label='F1 Score', color='aquamarine')\n",
    "\n",
    "# Add labels, title, and custom x-axis ticks\n",
    "ax.set_xlabel('Features')\n",
    "ax.set_ylabel('Scores')\n",
    "ax.set_title('Table 1: Comparison of Metrics for Different Features Removed for All Classes')\n",
    "ax.set_xticks(x)\n",
    "ax.set_xticklabels(features, rotation=45, ha=\"right\")\n",
    "\n",
    "#adjust range of y visualized\n",
    "ax.set_ylim(0, 1)\n",
    "\n",
    "# Add values on top of the bars using the values from metrics_scores\n",
    "for i, feature in enumerate(features2):\n",
    "    accuracy2 = metrics_scores2[feature][0]\n",
    "    precision2 = metrics_scores2[feature][1]\n",
    "    recall2 = metrics_scores2[feature][2]\n",
    "    f12 = metrics_scores2[feature][3]\n",
    "\n",
    "    # Adding text labels above each bar for each metric\n",
    "    ax.text(x[i] - width * 1.5, accuracy2 + 0.01, f'{accuracy2:.3f}', ha='center', va='bottom', fontsize=10)\n",
    "    ax.text(x[i] - width * 0.5, precision2 + 0.01, f'{precision2:.3f}', ha='center', va='bottom', fontsize=10)\n",
    "    ax.text(x[i] + width * 0.5, recall2 + 0.01, f'{recall2:.3f}', ha='center', va='bottom', fontsize=10)\n",
    "    ax.text(x[i] + width * 1.5, f12 + 0.01, f'{f12:.3f}', ha='center', va='bottom', fontsize=10)\n",
    "\n",
    "# Add legend\n",
    "ax.legend()\n",
    "\n",
    "# Display the plot\n",
    "plt.tight_layout()\n",
    "plt.show()"
   ]
  },
  {
   "cell_type": "markdown",
   "id": "f460ad71-5fad-44c5-b4c0-b07408782e76",
   "metadata": {},
   "source": [
    "### As before, we see that when density is removed, the model performs better than for all other features removed "
   ]
  }
 ],
 "metadata": {
  "kernelspec": {
   "display_name": "Python 3 (ipykernel)",
   "language": "python",
   "name": "python3"
  },
  "language_info": {
   "codemirror_mode": {
    "name": "ipython",
    "version": 3
   },
   "file_extension": ".py",
   "mimetype": "text/x-python",
   "name": "python",
   "nbconvert_exporter": "python",
   "pygments_lexer": "ipython3",
   "version": "3.10.13"
  }
 },
 "nbformat": 4,
 "nbformat_minor": 5
}
